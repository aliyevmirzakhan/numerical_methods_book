{
 "cells": [
  {
   "cell_type": "markdown",
   "metadata": {},
   "source": [
    "# Introduction"
   ]
  },
  {
   "cell_type": "markdown",
   "metadata": {},
   "source": [
    "## Computer Preliminaries and Error Descriptors\n",
    "\n",
    "Unfortunately computers can't store numbers with infinite precision, but instead use an approximation that can be packed into a fixed number of bits.  These bits can be arranged to represent different data types usually called fixed point numbers or integers and floating point numbers.  Of most importance to us as numerical analysts are floating point numbers.  \n",
    "\n",
    "A floating point number is represented within the computer as a bit sign (positive or negative), an integer number representing the number of significant digits called the significand or mantissa, and an integer exponent.  Symbolically, we might write:\n",
    "\n",
    "$$\n",
    "s \\times M \\times B^{sE}\n",
    "$$\n",
    "\n",
    "where, $s$ is the sign, $M$ is the mantissa, $B$ is called the base usually $2$, but sometimes $10$ or $16$, and $E$ is the integer exponent.\n",
    "\n",
    "The smallest floating point number which, when added to the floating point number $1.0$, produces a result different than $1.0$ is called the machine precision or machine epsilon, $\\epsilon_{m}$.  Most modern computers have a machine epsilon value somewhere around $2^{-53}$ $(1.11 \\times 10^{-16})$, although $\\epsilon_{m}$ can range depending on the base and the bit wordlength (32-bit, 64-bit, etc.)\n",
    "\n",
    "Almost any arithmetic between floating point numbers will produce an additional fraction error of size $\\epsilon_{m}$, this error is called roundoff error.  Numpy has a special function that can report what $\\epsilon_{m}$ is for the machine we are using: "
   ]
  },
  {
   "cell_type": "code",
   "execution_count": 1,
   "metadata": {},
   "outputs": [
    {
     "data": {
      "text/plain": [
       "2.220446049250313e-16"
      ]
     },
     "execution_count": 1,
     "metadata": {},
     "output_type": "execute_result"
    }
   ],
   "source": [
    "import numpy as np\n",
    "eps = np.finfo(np.float).eps;  eps"
   ]
  },
  {
   "cell_type": "markdown",
   "metadata": {},
   "source": [
    "We can verify that adding $\\epsilon_m$ to 1.0 returns something that differs from 1.0."
   ]
  },
  {
   "cell_type": "code",
   "execution_count": 2,
   "metadata": {},
   "outputs": [
    {
     "data": {
      "text/plain": [
       "True"
      ]
     },
     "execution_count": 2,
     "metadata": {},
     "output_type": "execute_result"
    }
   ],
   "source": [
    "1.0 + eps != 1.0"
   ]
  },
  {
   "cell_type": "markdown",
   "metadata": {},
   "source": [
    "However dividing $\\epsilon_m$ by 10 and adding to 1.0 simply returns 1.0."
   ]
  },
  {
   "cell_type": "code",
   "execution_count": 3,
   "metadata": {},
   "outputs": [
    {
     "data": {
      "text/plain": [
       "True"
      ]
     },
     "execution_count": 3,
     "metadata": {},
     "output_type": "execute_result"
    }
   ],
   "source": [
    "1.0 + eps / 10 == 1"
   ]
  },
  {
   "cell_type": "markdown",
   "metadata": {},
   "source": [
    "## The Numerical Analyst's Enemy:  Roundoff Error\n",
    "\n",
    "Roundoff error, is a characteristic of computer hardware; however, there is another type of error that is completely a result of the algorithm or software.\n",
    "\n",
    "Most numerical algorithms compute discrete approximations to a continuous desired quantity.  An example of this is the use of the Taylor series to approximate the function $\\sin{(x)}$. The Taylor series approximation of the function is as follows:\n",
    "\n",
    "$$\n",
    "\\sin{(x)} = x - \\frac{x^3}{3!}+\\frac{x^5}{5!}-\\frac{x^7}{7!} \\cdots \n",
    "$$\n",
    "\n",
    "Of course, this representation requires that the series be infinite for the solution to be exact.  Even the best computers cannot evaluate an infinite number of terms in the Taylor series; therefore, we must take a finite number of terms for the approximation.  The difference between the approximated answer and the exact solution is called the truncation error.  Let's take a look at some numerics, we all know that $\\sin{\\left(\\frac{\\pi}{2}\\right)} = 1$.\n",
    "\n",
    "We start by defining a function representing the Taylor series expansion of $\\sin(x)$."
   ]
  },
  {
   "cell_type": "code",
   "execution_count": 4,
   "metadata": {
    "tags": [
     "hide_input"
    ]
   },
   "outputs": [],
   "source": [
    "import sympy\n",
    "sympy.init_printing()\n",
    "x = sympy.Symbol('x')"
   ]
  },
  {
   "cell_type": "code",
   "execution_count": 5,
   "metadata": {},
   "outputs": [
    {
     "data": {
      "image/png": "[encoded data removed]",
      "text/latex": [
       "$\\displaystyle x - \\frac{x^{3}}{6} + \\frac{x^{5}}{120} - \\frac{x^{7}}{5040} + O\\left(x^{9}\\right)$"
      ],
      "text/plain": [
       "     3     5     7         \n",
       "    x     x     x      ⎛ 9⎞\n",
       "x - ── + ─── - ──── + O⎝x ⎠\n",
       "    6    120   5040        "
      ]
     },
     "execution_count": 5,
     "metadata": {},
     "output_type": "execute_result"
    }
   ],
   "source": [
    "taylor_sin = lambda N=9: sympy.series(sympy.sin(x),x,n=N);\n",
    "taylor_sin()"
   ]
  },
  {
   "cell_type": "markdown",
   "metadata": {},
   "source": [
    "By evaluating the function above at $x = \\frac \\pi 2$ and subtracting it from 1 we can see how the truncation error evolves as we add more terms in the Taylor series."
   ]
  },
  {
   "cell_type": "code",
   "execution_count": 6,
   "metadata": {
    "tags": [
     "hide_input",
     "interactive"
    ]
   },
   "outputs": [
    {
     "data": {
      "application/vnd.jupyter.widget-view+json": {
       "model_id": "43fed5bdd3b64b9abc50f91540051dff",
       "version_major": 2,
       "version_minor": 0
      },
      "text/plain": [
       "interactive(children=(IntSlider(value=1, description='No. of Terms:', max=20, min=1), Output(layout=Layout(hei…"
      ]
     },
     "metadata": {},
     "output_type": "display_data"
    }
   ],
   "source": [
    "from ipywidgets import interact, interactive, IntSlider\n",
    "from IPython.display import display, Markdown\n",
    "\n",
    "\n",
    "def taylor_sin_minus_one(N):\n",
    "    display(1 - taylor_sin(N).removeO())\n",
    "    display(Markdown(\"Error = {}\"\n",
    "                     .format(sympy.latex(1 - taylor_sin(N).removeO().subs(x, np.pi / 2).evalf(), mode='inline'))))\n",
    "          \n",
    "interactive_sin = interactive(taylor_sin_minus_one, N=IntSlider(min=1, max=20, description='No. of Terms:'))\n",
    "output = interactive_sin.children[-1]\n",
    "output.layout.height = '75px'\n",
    "interactive_sin"
   ]
  },
  {
   "cell_type": "markdown",
   "metadata": {},
   "source": [
    "Here is an interesting visualization of how the difference between the two functions evolve as we add more terms of the Taylor series. The truncation error is visualized as the maximum difference between the two curves."
   ]
  },
  {
   "cell_type": "markdown",
   "metadata": {},
   "source": [
    "*** PLACEHOLDER FOR GRAPHIC ***"
   ]
  },
  {
   "cell_type": "markdown",
   "metadata": {},
   "source": [
    "The minimization of truncation error is one of the main goals of numerical analysis."
   ]
  },
  {
   "cell_type": "markdown",
   "metadata": {},
   "source": [
    "## Stability\n",
    "\n",
    "Usually roundoff error and truncation error do not interact with each other, but sometimes roundoff error can cause a numerical algorithm to become *unstable*. This happens when roundoff error gets mixed into the calculation and is magnified as it continues. Let's look at an example:\n",
    "\n",
    "Suppose we want to calculate the powers of the so called \"Golden Mean\"\n",
    "\n",
    "$\\phi = \\frac{\\sqrt{5}-1}{2}$\n",
    "\n",
    "It can be verified that the power of $\\phi^{n+1}$ can be calculated using the simple recusion relationship,\n",
    "\n",
    "$\\phi^{n+1} = \\phi^{n-1} - \\phi^n$\n",
    "\n",
    "Therefore by calcuating $\\phi^0 = 1$ and $\\phi^1 = 0.618034$ and successively applying the recusion relationship we should be able to calculate as many powers as desired. Let's see this in action:\n",
    "\n",
    "First we'll calculate what we will call the \"exact\" answer by actually evaluating all the power individually.\n",
    "\n",
    "$$\n",
    "\\phi_{\\mbox{exact}} = Table [(\\frac{\\sqrt5 - 1}{2})^n , \\{n, 0, 80\\}];\n",
    "$$\n",
    "\n",
    "Next we will calculate the first 2 powers and use the recursion formula to evaluate the rest.\n",
    "\n",
    "$$\n",
    "\\phi recursion = Join [\\{1,\\frac{\\sqrt{5}-1}{2}\\},ConstantArray[0,79]];\n",
    "$$\n",
    "\n",
    "Do\n",
    "\n",
    "$$\n",
    "\\phi recusion[[n+1]]=\\phi recursion[[n-1]] - \\phi recursion[[n]],\\{n,2,70\\}]\n",
    "$$"
   ]
  },
  {
   "cell_type": "markdown",
   "metadata": {},
   "source": [
    "*** PLACEHOLDER FOR GRAPHIC ***"
   ]
  },
  {
   "cell_type": "markdown",
   "metadata": {},
   "source": [
    "The recusion relationship is unstable and cannot be used as stated to solve this problem. Stability of algorithms is something we always need to be aware of as numerical analysts.\n",
    "\n",
    "## Psuedocode\n",
    "Psuedocode is a compact and informal way of describing a numerical algorithm. It utilizes the conventional structure of a programming language (loops, conditional statements, etc.) but is intended for human reading.\n",
    "\n",
    "## Conventional Programming Structures\n",
    "**Do Loops and For Loops:** These two structures essentially do the same thing in a slightly different way. They are used when you want to do something in sequance for a set number of iterations. Let's look at a couple of examples using Python."
   ]
  },
  {
   "cell_type": "code",
   "execution_count": 8,
   "metadata": {},
   "outputs": [
    {
     "name": "stdout",
     "output_type": "stream",
     "text": [
      "0\n",
      "2\n",
      "4\n",
      "6\n",
      "8\n"
     ]
    }
   ],
   "source": [
    "for i in range(0,10,2):\n",
    "    print(i)"
   ]
  },
  {
   "cell_type": "markdown",
   "metadata": {},
   "source": [
    "**While Loops:** These loops are used to evaluate the body of the loop as long as a certain test is passed. An example would be:"
   ]
  },
  {
   "cell_type": "code",
   "execution_count": 9,
   "metadata": {},
   "outputs": [
    {
     "name": "stdout",
     "output_type": "stream",
     "text": [
      "0\n",
      "2\n",
      "4\n",
      "6\n",
      "8\n"
     ]
    }
   ],
   "source": [
    "i = 0\n",
    "while i < 10:\n",
    "    print(i)\n",
    "    i = i+2"
   ]
  },
  {
   "cell_type": "markdown",
   "metadata": {},
   "source": [
    "**If Statements:** Used as tests to return different actions. An example of an 'if statement' is:"
   ]
  },
  {
   "cell_type": "code",
   "execution_count": 10,
   "metadata": {},
   "outputs": [
    {
     "name": "stdout",
     "output_type": "stream",
     "text": [
      "i is not equal to 1\n"
     ]
    }
   ],
   "source": [
    "i = 2\n",
    "if i == 1:\n",
    "    print('i is equal to 1')\n",
    "else:\n",
    "    print('i is not equal to 1')"
   ]
  },
  {
   "cell_type": "markdown",
   "metadata": {},
   "source": [
    "When we write sophisticated code we might use multiple loops and if statements in conjunction. For instance:"
   ]
  },
  {
   "cell_type": "code",
   "execution_count": 11,
   "metadata": {},
   "outputs": [
    {
     "name": "stdout",
     "output_type": "stream",
     "text": [
      "i is not equal to 1, i is 0\n",
      "i is equal to 1\n",
      "i is not equal to 1, i is 2\n"
     ]
    }
   ],
   "source": [
    "i = 0\n",
    "while i < 3:\n",
    "    if i == 1:\n",
    "        print('i is equal to 1')\n",
    "    else:\n",
    "        print('i is not equal to 1, i is {}'.format(i))\n",
    "    i = i+1"
   ]
  }
 ],
 "metadata": {
  "celltoolbar": "Edit Metadata",
  "kernelspec": {
   "display_name": "Python 3",
   "language": "python",
   "name": "python3"
  },
  "language_info": {
   "codemirror_mode": {
    "name": "ipython",
    "version": 3
   },
   "file_extension": ".py",
   "mimetype": "text/x-python",
   "name": "python",
   "nbconvert_exporter": "python",
   "pygments_lexer": "ipython3",
   "version": "3.8.1"
  },
  "widgets": {
   "application/vnd.jupyter.widget-state+json": {
    "state": {
     "107b95d81fee404a9fd557accd82f583": {
      "model_module": "@jupyter-widgets/base",
      "model_module_version": "1.2.0",
      "model_name": "LayoutModel",
      "state": {}
     },
     "2574c9790bf54af8a539a72174978639": {
      "model_module": "@jupyter-widgets/controls",
      "model_module_version": "1.5.0",
      "model_name": "IntSliderModel",
      "state": {
       "description": "No. of Terms:",
       "layout": "IPY_MODEL_6f85cf62313d45b091cfa7955d382dba",
       "max": 20,
       "min": 1,
       "style": "IPY_MODEL_77eff4943c9f454399ca3ab25f13eb4c",
       "value": 8
      }
     },
     "27a9d5013cd845ffaad931f9a8d43605": {
      "model_module": "@jupyter-widgets/controls",
      "model_module_version": "1.5.0",
      "model_name": "VBoxModel",
      "state": {
       "_dom_classes": [
        "widget-interact"
       ],
       "children": [
        "IPY_MODEL_2574c9790bf54af8a539a72174978639",
        "IPY_MODEL_b0b3e19a07db458c9554e6c6015b7b87"
       ],
       "layout": "IPY_MODEL_107b95d81fee404a9fd557accd82f583"
      }
     },
     "3814169d676849649b4eaaade85de0ea": {
      "model_module": "@jupyter-widgets/base",
      "model_module_version": "1.2.0",
      "model_name": "LayoutModel",
      "state": {
       "height": "75px"
      }
     },
     "3bce9882e0d542329e33760ee1bba1ea": {
      "model_module": "@jupyter-widgets/controls",
      "model_module_version": "1.5.0",
      "model_name": "SliderStyleModel",
      "state": {
       "description_width": ""
      }
     },
     "45a6895dbbbe48aab83ab2b5d356d2fc": {
      "model_module": "@jupyter-widgets/output",
      "model_module_version": "1.0.0",
      "model_name": "OutputModel",
      "state": {
       "layout": "IPY_MODEL_8236498f8bcf4892b2e1d69d08e305d7",
       "outputs": [
        {
         "data": {
          "image/png": "iVBORw0KGgoAAAANSUhEUgAAAAgAAAAPCAYAAADZCo4zAAAACXBIWXMAAA7EAAAOxAGVKw4bAAAAX0lEQVQYGWP8//8/Az7AhCzJyMgYAsTvgVgAJs4C5cwGCrwDYiEghkuCFYGsgGGgQBkQg+wUgImhWAHWgUaMKoAECCMoxIDBPRPIBQWzCxCDgvocEN8D4t1gBUAGTgAAQFIgDGUiF8EAAAAASUVORK5CYII=\n",
          "text/latex": "$\\displaystyle 1$",
          "text/plain": "1"
         },
         "metadata": {},
         "output_type": "display_data"
        },
        {
         "data": {
          "text/markdown": "Error = $1$",
          "text/plain": "<IPython.core.display.Markdown object>"
         },
         "metadata": {},
         "output_type": "display_data"
        }
       ]
      }
     },
     "5c76c93a646a433694defffe2a38c2b1": {
      "model_module": "@jupyter-widgets/controls",
      "model_module_version": "1.5.0",
      "model_name": "VBoxModel",
      "state": {
       "_dom_classes": [
        "widget-interact"
       ],
       "children": [
        "IPY_MODEL_62469f7958c24472b2e3af3bd96471df",
        "IPY_MODEL_45a6895dbbbe48aab83ab2b5d356d2fc"
       ],
       "layout": "IPY_MODEL_5ccea3cec4514e2cbe722740449c3f88"
      }
     },
     "5ccea3cec4514e2cbe722740449c3f88": {
      "model_module": "@jupyter-widgets/base",
      "model_module_version": "1.2.0",
      "model_name": "LayoutModel",
      "state": {}
     },
     "62469f7958c24472b2e3af3bd96471df": {
      "model_module": "@jupyter-widgets/controls",
      "model_module_version": "1.5.0",
      "model_name": "IntSliderModel",
      "state": {
       "description": "No. of Terms:",
       "layout": "IPY_MODEL_d989cb73ee15452eb6cafbd1ccc6b444",
       "max": 20,
       "min": 1,
       "style": "IPY_MODEL_3bce9882e0d542329e33760ee1bba1ea",
       "value": 1
      }
     },
     "6f85cf62313d45b091cfa7955d382dba": {
      "model_module": "@jupyter-widgets/base",
      "model_module_version": "1.2.0",
      "model_name": "LayoutModel",
      "state": {}
     },
     "77eff4943c9f454399ca3ab25f13eb4c": {
      "model_module": "@jupyter-widgets/controls",
      "model_module_version": "1.5.0",
      "model_name": "SliderStyleModel",
      "state": {
       "description_width": ""
      }
     },
     "8236498f8bcf4892b2e1d69d08e305d7": {
      "model_module": "@jupyter-widgets/base",
      "model_module_version": "1.2.0",
      "model_name": "LayoutModel",
      "state": {
       "height": "75px"
      }
     },
     "b0b3e19a07db458c9554e6c6015b7b87": {
      "model_module": "@jupyter-widgets/output",
      "model_module_version": "1.0.0",
      "model_name": "OutputModel",
      "state": {
       "layout": "IPY_MODEL_3814169d676849649b4eaaade85de0ea",
       "outputs": [
        {
         "data": {
          "image/png": "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\n",
          "text/latex": "$\\displaystyle \\frac{x^{7}}{5040} - \\frac{x^{5}}{120} + \\frac{x^{3}}{6} - x + 1$",
          "text/plain": "  7      5    3        \n x      x    x         \n──── - ─── + ── - x + 1\n5040   120   6         "
         },
         "metadata": {},
         "output_type": "display_data"
        },
        {
         "data": {
          "text/markdown": "Error = $0.000156898600501276$",
          "text/plain": "<IPython.core.display.Markdown object>"
         },
         "metadata": {},
         "output_type": "display_data"
        }
       ]
      }
     },
     "d989cb73ee15452eb6cafbd1ccc6b444": {
      "model_module": "@jupyter-widgets/base",
      "model_module_version": "1.2.0",
      "model_name": "LayoutModel",
      "state": {}
     }
    },
    "version_major": 2,
    "version_minor": 0
   }
  }
 },
 "nbformat": 4,
 "nbformat_minor": 4
}
