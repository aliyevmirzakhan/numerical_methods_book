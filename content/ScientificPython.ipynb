{
 "cells": [
  {
   "cell_type": "markdown",
   "metadata": {
    "tags": [
     "remove_cell"
    ]
   },
   "source": [
    "# Scientific Python"
   ]
  },
  {
   "cell_type": "markdown",
   "metadata": {},
   "source": [
    "This chapter contains reference sections for several libraries that make up the *Scientific Python* ecosystem, sometimes called the *Python Data Science Ecosystem*.  These include libraries for efficient computing over large arrays of data, common numerical routines such as linear algebra solvers, interpolation, integration, etc. as well libraries for creating various scientific visualizations.  \n",
    "\n",
    "The chapter only covers the few core libraries that many others depend on.  The entire Scientific Python suite of libraries doesn't have a precise definition, but it typically can be though of as all of those that are installed by default with the [Anaconda Python Distribution](https://www.anaconda.com/distribution/)."
   ]
  }
 ],
 "metadata": {
  "kernelspec": {
   "display_name": "Python 3",
   "language": "python",
   "name": "python3"
  },
  "language_info": {
   "codemirror_mode": {
    "name": "ipython",
    "version": 3
   },
   "file_extension": ".py",
   "mimetype": "text/x-python",
   "name": "python",
   "nbconvert_exporter": "python",
   "pygments_lexer": "ipython3",
   "version": "3.8.1"
  }
 },
 "nbformat": 4,
 "nbformat_minor": 4
}
